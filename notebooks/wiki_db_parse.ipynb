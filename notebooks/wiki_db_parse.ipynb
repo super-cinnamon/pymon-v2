{
 "cells": [
  {
   "cell_type": "code",
   "execution_count": 11,
   "metadata": {},
   "outputs": [],
   "source": [
    "#!wget -P ../data https://s3.amazonaws.com/wikia_xml_dumps/g/ge/gensinimpact_pages_current.xml.7z\n",
    "#!7za x ../data/gensinimpact_pages_current.xml.7z -o../data\n",
    "#!rm ../data/gensinimpact_pages_current.xml.7z"
   ]
  },
  {
   "cell_type": "code",
   "execution_count": 2,
   "metadata": {},
   "outputs": [],
   "source": [
    "import re\n",
    "import mwparserfromhell\n",
    "from lxml import etree as ET\n",
    "from pprint import pp"
   ]
  },
  {
   "cell_type": "code",
   "execution_count": 13,
   "metadata": {},
   "outputs": [],
   "source": [
    "# Define XML file path (replace with your actual file)\n",
    "xml_file = '../data/gensinimpact_pages_current.xml'\n",
    "\n",
    "# Parse the XML file\n",
    "tree = ET.parse(xml_file)\n",
    "root = tree.getroot()"
   ]
  },
  {
   "cell_type": "code",
   "execution_count": 14,
   "metadata": {},
   "outputs": [],
   "source": [
    "pages = root.findall(\".//page\", namespaces=root.nsmap)"
   ]
  },
  {
   "cell_type": "code",
   "execution_count": 15,
   "metadata": {},
   "outputs": [],
   "source": [
    "def parse_page(page_element):\n",
    "    \"\"\"\n",
    "    Parses a page element and returns a dictionary with its data.\n",
    "\n",
    "    Args:\n",
    "        page_element: The XML element representing a page.\n",
    "\n",
    "    Returns:\n",
    "        A dictionary containing the page data.\n",
    "    \"\"\"\n",
    "    page_data = {}\n",
    "    for child in page_element.getchildren():\n",
    "        tag = child.tag\n",
    "        # use regex to remove the http link between brackets\n",
    "        tag = re.sub(r'\\{.*\\}', '', tag)\n",
    "        # Handle elements with text content\n",
    "        if child.text and len(child.text.strip()) > 0:\n",
    "            # strip and remove extra spaces\n",
    "            \n",
    "            text = child.text.strip()\n",
    "            text = re.sub(r\"\\s+\", \" \", text).strip()\n",
    "            text = re.sub(r'\\{\\{\\s*Meta.*?\\}\\}','', text, flags=re.IGNORECASE).strip()\n",
    "            text = re.sub(r'\\{\\{\\s*About.*?\\}\\}','', text, flags=re.IGNORECASE).strip()\n",
    "            text = re.sub(r'\\{\\{\\s*Stub.*?\\}\\}','', text, flags=re.IGNORECASE).strip()\n",
    "            text = re.sub(r'\\{\\{\\s*CustomTabs.*?\\}\\}','', text, flags=re.IGNORECASE).strip()\n",
    "            text = re.sub(r'\\{\\{\\s*See also.*?\\}\\}','', text, flags=re.IGNORECASE).strip()\n",
    "            text = re.sub(r'^\\{\\{Character\\s+\\{\\{', '{{CharacterTabs}} {{', text, flags=re.IGNORECASE).strip()\n",
    "            # Replace where it starts with character infobox to npc infobox\n",
    "            text = re.sub(r'^\\{\\{Character Infobox','{{NPC Infobox', text, flags=re.IGNORECASE).strip()\n",
    "            \n",
    "            # remove charactertabs\n",
    "            text = text.replace('{{CharacterTabs}}', '')\n",
    "            text = text.replace('{{Wish', '{{Wish Infobox')\n",
    "            text = text.replace('{{Event', '{{Wish Infobox')\n",
    "\n",
    "            text = text.strip()\n",
    "\n",
    "            match = re.match(r\"^\\{\\{((\\w*\\s)*)Infobox\", text)\n",
    "            if match:\n",
    "                page_data['class'] = match.group(1).strip()\n",
    "\n",
    "            page_data[tag] = text\n",
    "        # Handle nested elements recursively\n",
    "        elif child.getchildren():\n",
    "            page_data[tag] = parse_page(child)\n",
    "        # Handle elements with attributes\n",
    "        else:\n",
    "            attributes = child.attrib\n",
    "            if attributes:\n",
    "                page_data[tag] = attributes\n",
    "    return page_data"
   ]
  },
  {
   "cell_type": "code",
   "execution_count": 16,
   "metadata": {},
   "outputs": [],
   "source": [
    "def parse_page_text(text):\n",
    "    wikicode = mwparserfromhell.parse(text)\n",
    "\n",
    "    info_dict = {}\n",
    "    other_languages = {}\n",
    "    for template in wikicode.filter_templates():\n",
    "        for param in template.params:\n",
    "            key = str(param.name).strip()\n",
    "            value = str(param.value).strip()\n",
    "            if \"other languages\" == template.name.lower().strip():\n",
    "                other_languages.update({key: value})\n",
    "                continue\n",
    "            info_dict[key] = value\n",
    "\n",
    "    info_dict[\"other_languages\"] = other_languages\n",
    "\n",
    "    return info_dict"
   ]
  },
  {
   "cell_type": "code",
   "execution_count": 17,
   "metadata": {},
   "outputs": [],
   "source": [
    "def parse_all_pages(pages):\n",
    "    parsed_pages = []\n",
    "    for page in pages:\n",
    "        parsed_page = parse_page(page)\n",
    "        if \":\" not in parsed_page['title'] and not re.match(r'^#redirect', parsed_page['revision']['text'], re.IGNORECASE):\n",
    "            if 'class' not in parsed_page.keys():\n",
    "                try:\n",
    "                    parsed_page['class'] = parsed_page['revision']['class']\n",
    "                    parsed_page['revision'].pop('class', None)\n",
    "                except:\n",
    "                    parsed_page['class'] = 'Special'\n",
    "\n",
    "            parsed_page[\"revision\"][\"info\"] = parse_page_text(parsed_page[\"revision\"][\"text\"])\n",
    "            del parsed_page[\"revision\"][\"text\"]\n",
    "\n",
    "            parsed_pages.append(parsed_page)\n",
    "    return parsed_pages"
   ]
  },
  {
   "cell_type": "markdown",
   "metadata": {},
   "source": [
    "every item inside == title == or \\<\\!--title--\\> is considered a different segment, the first segment which is the main page description does not start with == title =="
   ]
  },
  {
   "cell_type": "code",
   "execution_count": 18,
   "metadata": {},
   "outputs": [
    {
     "data": {
      "text/plain": [
       "272137"
      ]
     },
     "execution_count": 18,
     "metadata": {},
     "output_type": "execute_result"
    }
   ],
   "source": [
    "len(pages)"
   ]
  },
  {
   "cell_type": "code",
   "execution_count": 20,
   "metadata": {},
   "outputs": [],
   "source": [
    "parsed_pages = parse_all_pages(pages)"
   ]
  },
  {
   "cell_type": "code",
   "execution_count": 21,
   "metadata": {},
   "outputs": [
    {
     "data": {
      "text/plain": [
       "{'title': 'Kaeya',\n",
       " 'ns': '0',\n",
       " 'id': '130',\n",
       " 'revision': {'id': '1487506',\n",
       "  'parentid': '1487501',\n",
       "  'timestamp': '2024-02-02T19:27:01Z',\n",
       "  'contributor': {'username': 'MrCoco59f', 'id': '46124434'},\n",
       "  'comment': 'Reverted edits by [[Special:Contributions/HyBoxwood|HyBoxwood]] ([[Message Wall:HyBoxwood|wall]]) to last revision by [[User:UshiBot|UshiBot]]',\n",
       "  'origin': '1326425',\n",
       "  'model': 'wikitext',\n",
       "  'format': 'text/x-wiki',\n",
       "  'sha1': 'bdag0vvjs4ojngxq4hgfm88g4x2e518',\n",
       "  'info': {'image': '<gallery> Kaeya Card.png|Card Character Kaeya Full Wish.png|Wish Character Kaeya Game.png|In-Game </gallery>',\n",
       "   'type': 'Playable <!--Playable Character Information-->',\n",
       "   'quality': '4',\n",
       "   'weapon': 'Sword',\n",
       "   'element': 'Cryo',\n",
       "   'name': 'Kaeya <!--Character Information-->',\n",
       "   'realname': 'Kaeya Alberich',\n",
       "   'birthday': 'November 30th',\n",
       "   'constellation': 'Pavo Ocellus',\n",
       "   'region': 'Mondstadt',\n",
       "   'region2': \"Khaenri'ah\",\n",
       "   'affiliation': 'Knights of Favonius',\n",
       "   'affiliation2': \"Khaenri'ah\",\n",
       "   'affiliation3': 'Alberich Clan',\n",
       "   'dish': 'Fruity Skewers',\n",
       "   'namecard': 'Kaeya: Pavo Ocellus',\n",
       "   'obtain': \"*Complete [[Crash Course]] *[[Wanderlust Invocation]] (Wish) *[[Paimon's Bargains]]\",\n",
       "   'releaseDate': '2020-09-28',\n",
       "   'title': 'Frostwind Swordsman <!--Titles-->',\n",
       "   'title2': 'Quartermaster of the Knights',\n",
       "   'titleRef2': '<ref>[https://twitter.com/GenshinImpact/status/1141345099927998473 Official Character Introduction Illustration]</ref>',\n",
       "   'ancestry': 'Alberich Clan',\n",
       "   'father': 'Unnamed <!-- Family -->',\n",
       "   'fatherNote': 'biological father',\n",
       "   'father2': 'Crepus',\n",
       "   'fatherNote2': 'adoptive father',\n",
       "   'fatherRef2': '<ref group=\"Note\" name=\"Kaeya and Crepus\">Numerous in-game sources in Chinese refer to Kaeya as both {{zh|义子|tl=foster son}} and {{zh|养子|tl=adopted son}} in relation to Crepus, who is also referred to as {{zh|养父|tl=adoptive father}} and {{zh|义父|rm=yìfù|tl=adoptive father}} in relation to Kaeya. See {{S|Kaeya/Lore#Trivia}} for details.</ref>',\n",
       "   'sibling': 'Diluc',\n",
       "   'siblingNote': 'adoptive brother',\n",
       "   'siblingRef': '<ref group=\"Note\" name=\"Kaeya and Diluc\">See {{S|Kaeya/Lore#Trivia}} for further information on the terminology used to describe the relationship between Kaeya and Diluc.</ref>',\n",
       "   'voiceEN': '{{w|Josey Montana McCoy}}<ref name=\"Kaeya EN/JP\">Twitter: [https://twitter.com/GenshinImpact/status/1322720011723657217 EN & JP VA Announcement]</ref> <!--Voice Actors-->',\n",
       "   'voiceCN': \"[https://baike.baidu.com/item/孙晔/6639799 Sun Ye ({{zh|孙晔}})]<ref>Official ''Genshin Impact'' Chinese Website: [https://ys.mihoyo.com/main/character/mondstadt?char=3 Kaeya]</ref>\",\n",
       "   'voiceJP': '{{w|Kohsuke Toriumi|Toriumi Kousuke ({{ja|鳥海 浩輔}})}}<ref name=\"Kaeya EN/JP\"/>',\n",
       "   'voiceKR': '{{w|ko:정주원|Jeong Joo-won ({{ko|정주원}})}}<ref>Twitter: [https://twitter.com/genshinimpactkr/status/1322762521145561090 KR VA Announcement]</ref>',\n",
       "   '1': '2',\n",
       "   'tl': 'adoptive father',\n",
       "   'rm': 'yìfù',\n",
       "   '2': 'Jeong Joo-won ({{ko|정주원}})',\n",
       "   'note': '1',\n",
       "   'other_languages': {'default_hidden': '1',\n",
       "    'en': 'Kaeya',\n",
       "    'zhs': '凯亚',\n",
       "    'zhs_rm': 'Kǎiyà',\n",
       "    'zht': '凱亞',\n",
       "    'zht_rm': 'Kǎiyà',\n",
       "    'ja': 'ガイア',\n",
       "    'ja_rm': 'Gaia',\n",
       "    'ko': '케이아',\n",
       "    'es': 'Kaeya',\n",
       "    'fr': 'Kaeya',\n",
       "    'ru': 'Кэйа',\n",
       "    'th': 'Kaeya',\n",
       "    'vi': 'Kaeya',\n",
       "    'de': 'Kaeya',\n",
       "    'id': 'Kaeya',\n",
       "    'pt': 'Kaeya',\n",
       "    'tr': 'Kaeya',\n",
       "    'it': 'Kaeya'}}},\n",
       " 'class': 'Character'}"
      ]
     },
     "execution_count": 21,
     "metadata": {},
     "output_type": "execute_result"
    }
   ],
   "source": [
    "parsed_pages[1]"
   ]
  },
  {
   "cell_type": "code",
   "execution_count": 22,
   "metadata": {},
   "outputs": [
    {
     "data": {
      "text/plain": [
       "0"
      ]
     },
     "execution_count": 22,
     "metadata": {},
     "output_type": "execute_result"
    }
   ],
   "source": [
    "problems = []\n",
    "for page in parsed_pages:\n",
    "    try:\n",
    "        if page['class'] == 'Character':\n",
    "            # print(page)\n",
    "            pass\n",
    "    except:\n",
    "        problems.append(page)\n",
    "len(problems)"
   ]
  },
  {
   "cell_type": "code",
   "execution_count": 23,
   "metadata": {},
   "outputs": [],
   "source": [
    "import pickle\n",
    "\n",
    "with open('../data/genshin_database.pickle', 'wb') as handle:\n",
    "    pickle.dump(parsed_pages, handle, protocol=pickle.HIGHEST_PROTOCOL)"
   ]
  },
  {
   "cell_type": "code",
   "execution_count": 24,
   "metadata": {},
   "outputs": [],
   "source": [
    "with open('../data/genshin_database.pickle', 'rb') as handle:\n",
    "    genshin_db = pickle.load(handle)"
   ]
  },
  {
   "cell_type": "code",
   "execution_count": 25,
   "metadata": {},
   "outputs": [
    {
     "data": {
      "text/plain": [
       "{'title': 'Kaeya',\n",
       " 'ns': '0',\n",
       " 'id': '130',\n",
       " 'revision': {'id': '1487506',\n",
       "  'parentid': '1487501',\n",
       "  'timestamp': '2024-02-02T19:27:01Z',\n",
       "  'contributor': {'username': 'MrCoco59f', 'id': '46124434'},\n",
       "  'comment': 'Reverted edits by [[Special:Contributions/HyBoxwood|HyBoxwood]] ([[Message Wall:HyBoxwood|wall]]) to last revision by [[User:UshiBot|UshiBot]]',\n",
       "  'origin': '1326425',\n",
       "  'model': 'wikitext',\n",
       "  'format': 'text/x-wiki',\n",
       "  'sha1': 'bdag0vvjs4ojngxq4hgfm88g4x2e518',\n",
       "  'info': {'image': '<gallery> Kaeya Card.png|Card Character Kaeya Full Wish.png|Wish Character Kaeya Game.png|In-Game </gallery>',\n",
       "   'type': 'Playable <!--Playable Character Information-->',\n",
       "   'quality': '4',\n",
       "   'weapon': 'Sword',\n",
       "   'element': 'Cryo',\n",
       "   'name': 'Kaeya <!--Character Information-->',\n",
       "   'realname': 'Kaeya Alberich',\n",
       "   'birthday': 'November 30th',\n",
       "   'constellation': 'Pavo Ocellus',\n",
       "   'region': 'Mondstadt',\n",
       "   'region2': \"Khaenri'ah\",\n",
       "   'affiliation': 'Knights of Favonius',\n",
       "   'affiliation2': \"Khaenri'ah\",\n",
       "   'affiliation3': 'Alberich Clan',\n",
       "   'dish': 'Fruity Skewers',\n",
       "   'namecard': 'Kaeya: Pavo Ocellus',\n",
       "   'obtain': \"*Complete [[Crash Course]] *[[Wanderlust Invocation]] (Wish) *[[Paimon's Bargains]]\",\n",
       "   'releaseDate': '2020-09-28',\n",
       "   'title': 'Frostwind Swordsman <!--Titles-->',\n",
       "   'title2': 'Quartermaster of the Knights',\n",
       "   'titleRef2': '<ref>[https://twitter.com/GenshinImpact/status/1141345099927998473 Official Character Introduction Illustration]</ref>',\n",
       "   'ancestry': 'Alberich Clan',\n",
       "   'father': 'Unnamed <!-- Family -->',\n",
       "   'fatherNote': 'biological father',\n",
       "   'father2': 'Crepus',\n",
       "   'fatherNote2': 'adoptive father',\n",
       "   'fatherRef2': '<ref group=\"Note\" name=\"Kaeya and Crepus\">Numerous in-game sources in Chinese refer to Kaeya as both {{zh|义子|tl=foster son}} and {{zh|养子|tl=adopted son}} in relation to Crepus, who is also referred to as {{zh|养父|tl=adoptive father}} and {{zh|义父|rm=yìfù|tl=adoptive father}} in relation to Kaeya. See {{S|Kaeya/Lore#Trivia}} for details.</ref>',\n",
       "   'sibling': 'Diluc',\n",
       "   'siblingNote': 'adoptive brother',\n",
       "   'siblingRef': '<ref group=\"Note\" name=\"Kaeya and Diluc\">See {{S|Kaeya/Lore#Trivia}} for further information on the terminology used to describe the relationship between Kaeya and Diluc.</ref>',\n",
       "   'voiceEN': '{{w|Josey Montana McCoy}}<ref name=\"Kaeya EN/JP\">Twitter: [https://twitter.com/GenshinImpact/status/1322720011723657217 EN & JP VA Announcement]</ref> <!--Voice Actors-->',\n",
       "   'voiceCN': \"[https://baike.baidu.com/item/孙晔/6639799 Sun Ye ({{zh|孙晔}})]<ref>Official ''Genshin Impact'' Chinese Website: [https://ys.mihoyo.com/main/character/mondstadt?char=3 Kaeya]</ref>\",\n",
       "   'voiceJP': '{{w|Kohsuke Toriumi|Toriumi Kousuke ({{ja|鳥海 浩輔}})}}<ref name=\"Kaeya EN/JP\"/>',\n",
       "   'voiceKR': '{{w|ko:정주원|Jeong Joo-won ({{ko|정주원}})}}<ref>Twitter: [https://twitter.com/genshinimpactkr/status/1322762521145561090 KR VA Announcement]</ref>',\n",
       "   '1': '2',\n",
       "   'tl': 'adoptive father',\n",
       "   'rm': 'yìfù',\n",
       "   '2': 'Jeong Joo-won ({{ko|정주원}})',\n",
       "   'note': '1',\n",
       "   'other_languages': {'default_hidden': '1',\n",
       "    'en': 'Kaeya',\n",
       "    'zhs': '凯亚',\n",
       "    'zhs_rm': 'Kǎiyà',\n",
       "    'zht': '凱亞',\n",
       "    'zht_rm': 'Kǎiyà',\n",
       "    'ja': 'ガイア',\n",
       "    'ja_rm': 'Gaia',\n",
       "    'ko': '케이아',\n",
       "    'es': 'Kaeya',\n",
       "    'fr': 'Kaeya',\n",
       "    'ru': 'Кэйа',\n",
       "    'th': 'Kaeya',\n",
       "    'vi': 'Kaeya',\n",
       "    'de': 'Kaeya',\n",
       "    'id': 'Kaeya',\n",
       "    'pt': 'Kaeya',\n",
       "    'tr': 'Kaeya',\n",
       "    'it': 'Kaeya'}}},\n",
       " 'class': 'Character'}"
      ]
     },
     "execution_count": 25,
     "metadata": {},
     "output_type": "execute_result"
    }
   ],
   "source": [
    "genshin_db[1]"
   ]
  },
  {
   "cell_type": "code",
   "execution_count": 26,
   "metadata": {},
   "outputs": [
    {
     "data": {
      "text/plain": [
       "1"
      ]
     },
     "execution_count": 26,
     "metadata": {},
     "output_type": "execute_result"
    }
   ],
   "source": [
    "len([p for p in genshin_db if p[\"title\"] == \"Kaeya\"])"
   ]
  },
  {
   "cell_type": "code",
   "execution_count": 27,
   "metadata": {},
   "outputs": [
    {
     "name": "stdout",
     "output_type": "stream",
     "text": [
      "['Constellation', 'Soundtrack', 'Talent', 'Enemy', 'Traveler', 'Terminology', 'NPC', 'Anime', 'Achievement Category', 'Wish Infobox Series', 'Act', 'Wildlife', 'Weapon Series', 'Character', 'Weapon', 'Artifact', 'Achievement Set', 'Chapter', 'Furnishing', 'Album', 'Location', 'Manga', 'Outfit', 'Status', 'Wish', 'Quest', 'Hidden Exploration Objectives', 'Food', 'Faction', 'Domain', 'Wish Infobox', 'Item', 'Book Collection', 'Special', 'Component', 'Artifact Set', 'Book', 'Genius Invokation TCG Skill', 'Achievement', 'Constellation Overview', 'Element', 'Genius Invokation TCG']\n"
     ]
    }
   ],
   "source": [
    "classes = []\n",
    "for element in genshin_db:\n",
    "    classes.append(element['class'])\n",
    "classes = list(set(classes))\n",
    "print(classes)"
   ]
  },
  {
   "cell_type": "code",
   "execution_count": null,
   "metadata": {},
   "outputs": [],
   "source": []
  }
 ],
 "metadata": {
  "kernelspec": {
   "display_name": "Python 3",
   "language": "python",
   "name": "python3"
  },
  "language_info": {
   "codemirror_mode": {
    "name": "ipython",
    "version": 3
   },
   "file_extension": ".py",
   "mimetype": "text/x-python",
   "name": "python",
   "nbconvert_exporter": "python",
   "pygments_lexer": "ipython3",
   "version": "3.11.7"
  },
  "orig_nbformat": 4
 },
 "nbformat": 4,
 "nbformat_minor": 2
}
