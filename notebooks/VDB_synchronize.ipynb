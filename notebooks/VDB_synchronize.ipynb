{
 "cells": [
  {
   "cell_type": "markdown",
   "metadata": {},
   "source": [
    "# Init"
   ]
  },
  {
   "cell_type": "markdown",
   "metadata": {},
   "source": [
    "## Downloads"
   ]
  },
  {
   "cell_type": "code",
   "execution_count": 3,
   "metadata": {},
   "outputs": [],
   "source": [
    "\n",
    "# !pip install qdrant-client\n",
    "# !pip install sentence-transformers\n",
    "# !pip install wasabi"
   ]
  },
  {
   "cell_type": "markdown",
   "metadata": {},
   "source": [
    "## Imports"
   ]
  },
  {
   "cell_type": "code",
   "execution_count": 4,
   "metadata": {},
   "outputs": [],
   "source": [
    "import pickle\n",
    "\n",
    "from wasabi import Printer\n",
    "\n",
    "from qdrant_client import QdrantClient, models\n",
    "from sentence_transformers import SentenceTransformer"
   ]
  },
  {
   "cell_type": "code",
   "execution_count": 5,
   "metadata": {},
   "outputs": [],
   "source": [
    "logs = Printer()"
   ]
  },
  {
   "cell_type": "markdown",
   "metadata": {},
   "source": [
    "## Variables"
   ]
  },
  {
   "cell_type": "code",
   "execution_count": 6,
   "metadata": {},
   "outputs": [],
   "source": [
    "qdrant_token = \"xxxx\"\n",
    "\n",
    "collection_name = \"genshin_lite\"\n",
    "model_name = \"sentence-transformers/all-MiniLM-L6-v2\""
   ]
  },
  {
   "cell_type": "code",
   "execution_count": 7,
   "metadata": {},
   "outputs": [],
   "source": [
    "\n",
    "qdrant_client = QdrantClient(\n",
    "    url=\"xxxx\", \n",
    "    api_key=qdrant_token,\n",
    ")"
   ]
  },
  {
   "cell_type": "code",
   "execution_count": 8,
   "metadata": {},
   "outputs": [],
   "source": [
    "model = SentenceTransformer(model_name)"
   ]
  },
  {
   "cell_type": "code",
   "execution_count": 9,
   "metadata": {},
   "outputs": [],
   "source": [
    "with open('../data/genshin_database.pickle', 'rb') as handle:\n",
    "    genshin_db = pickle.load(handle)"
   ]
  },
  {
   "cell_type": "markdown",
   "metadata": {},
   "source": [
    "## Helper functions"
   ]
  },
  {
   "cell_type": "code",
   "execution_count": 10,
   "metadata": {},
   "outputs": [],
   "source": [
    "def create_collection(collection_name):\n",
    "    qdrant_client.recreate_collection(\n",
    "        collection_name=collection_name,\n",
    "        vectors_config={\n",
    "            \"page_content\": models.VectorParams(\n",
    "            size=384,\n",
    "            distance=models.Distance.COSINE,\n",
    "            ),\n",
    "        }\n",
    "    )"
   ]
  },
  {
   "cell_type": "code",
   "execution_count": 11,
   "metadata": {},
   "outputs": [],
   "source": [
    "def insert_collection(collection_name, payload, vector):\n",
    "    qdrant_client.upsert(\n",
    "        collection_name=collection_name,\n",
    "        points=[\n",
    "            models.PointStruct(\n",
    "                id=payload[\"id\"],\n",
    "                payload=payload,\n",
    "                vector={\n",
    "                    \"page_content\": [float(num) for num in vector],\n",
    "                }\n",
    "            )\n",
    "        ]\n",
    "    )"
   ]
  },
  {
   "cell_type": "code",
   "execution_count": 12,
   "metadata": {},
   "outputs": [],
   "source": [
    "def keep_relevant_content(page):\n",
    "    keep = [\"data\", \"title\", \"class\"]\n",
    "    relevant_content = {}\n",
    "    for key in keep:\n",
    "        if len(page[key]) > 0:\n",
    "            relevant_content[key] = page[key]\n",
    "        else: return None\n",
    "    # do not synch if data is empty\n",
    "\n",
    "    return relevant_content"
   ]
  },
  {
   "cell_type": "code",
   "execution_count": 13,
   "metadata": {},
   "outputs": [],
   "source": [
    "def generate_embeddings(model, text):\n",
    "    embeddings = model.encode(text)\n",
    "    return embeddings"
   ]
  },
  {
   "cell_type": "code",
   "execution_count": 24,
   "metadata": {},
   "outputs": [],
   "source": [
    "def synchronize_db(model, database, collection_name):\n",
    "    counter = 0\n",
    "    try:\n",
    "        for page in database:\n",
    "            uuid = str(page[\"id\"]).zfill(32)\n",
    "            content = keep_relevant_content(page)\n",
    "            if content:\n",
    "                logs.info(\"synchronizing {}\".format(page[\"title\"]))\n",
    "                payload = {\n",
    "                    \"id\": uuid,\n",
    "                    \"title\": page[\"title\"],\n",
    "                    \"class\":page[\"class\"],\n",
    "                    \"content\": str(content),\n",
    "                }\n",
    "                embeddings = generate_embeddings(model, str(content))\n",
    "\n",
    "                insert_collection(collection_name, payload, embeddings)\n",
    "            \n",
    "                logs.good(\"successfully upserted {} into collection\".format(page[\"title\"]))\n",
    "            else: logs.fail(\"failed to upsert {} into collection\".format(page[\"title\"]))\n",
    "            counter +=1\n",
    "    except Exception as e:\n",
    "        logs.fail(\"upserting failed, stopped after {} pages\".format(counter))\n",
    "        logs.info(\"restating from where it stopped\")\n",
    "        synchronize_db(model, database[counter:], collection_name)"
   ]
  },
  {
   "cell_type": "code",
   "execution_count": 25,
   "metadata": {},
   "outputs": [],
   "source": [
    "create_collection(collection_name)"
   ]
  },
  {
   "cell_type": "code",
   "execution_count": null,
   "metadata": {},
   "outputs": [],
   "source": [
    "synchronize_db(model, genshin_db[:], collection_name)"
   ]
  },
  {
   "cell_type": "code",
   "execution_count": null,
   "metadata": {},
   "outputs": [],
   "source": [
    "genshin_db[-1]"
   ]
  }
 ],
 "metadata": {
  "kernelspec": {
   "display_name": "Python 3",
   "language": "python",
   "name": "python3"
  },
  "language_info": {
   "codemirror_mode": {
    "name": "ipython",
    "version": 3
   },
   "file_extension": ".py",
   "mimetype": "text/x-python",
   "name": "python",
   "nbconvert_exporter": "python",
   "pygments_lexer": "ipython3",
   "version": "3.11.1"
  },
  "orig_nbformat": 4
 },
 "nbformat": 4,
 "nbformat_minor": 2
}
