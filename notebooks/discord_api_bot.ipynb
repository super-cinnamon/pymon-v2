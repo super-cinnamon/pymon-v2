{
 "cells": [
  {
   "cell_type": "markdown",
   "metadata": {},
   "source": [
    "# Init"
   ]
  },
  {
   "cell_type": "markdown",
   "metadata": {},
   "source": [
    "References <br>\n",
    "- [discord examples in github](https://github.com/Rapptz/discord.py/tree/v2.3.2/examples)\n",
    "- [discord.py documentation](https://discordpy.readthedocs.io/en/stable/index.html)\n",
    "- [discord.py API reference](https://discordpy.readthedocs.io/en/stable/api.html)"
   ]
  },
  {
   "cell_type": "markdown",
   "metadata": {},
   "source": [
    "## Imports"
   ]
  },
  {
   "cell_type": "code",
   "execution_count": null,
   "metadata": {},
   "outputs": [],
   "source": [
    "import os\n",
    "import dotenv"
   ]
  },
  {
   "cell_type": "code",
   "execution_count": null,
   "metadata": {},
   "outputs": [],
   "source": [
    "import discord"
   ]
  },
  {
   "cell_type": "markdown",
   "metadata": {},
   "source": [
    "## Variables"
   ]
  },
  {
   "cell_type": "code",
   "execution_count": null,
   "metadata": {},
   "outputs": [],
   "source": [
    "# get token from .env \n",
    "dotenv.load_dotenv()\n",
    "DISCORD_TOKEN = os.getenv(\"DISCORD_TOKEN\")"
   ]
  },
  {
   "cell_type": "code",
   "execution_count": null,
   "metadata": {},
   "outputs": [],
   "source": [
    "intents = discord.Intents.default()\n",
    "intents.message_content = True"
   ]
  },
  {
   "cell_type": "code",
   "execution_count": null,
   "metadata": {},
   "outputs": [],
   "source": [
    "client = discord.Client(intents=intents)"
   ]
  },
  {
   "cell_type": "markdown",
   "metadata": {},
   "source": [
    "# Helper functions"
   ]
  },
  {
   "cell_type": "markdown",
   "metadata": {},
   "source": [
    "This is a todo list of functions that I think will be useful to have. I will add them as I need them. <br>\n",
    "<input type=\"checkbox\"/> QnA, gets triggerred by a start token, and the rest is the question, and the bot responds with the answer. <br>\n",
    "<input type=\"checkbox\"/> Automatically replies when getting replied to. <br>\n",
    "<input type=\"checkbox\"/> Accesses all messages in a thread. <br>\n",
    "<input type=\"checkbox\"/> Reacts when name is mentioned in any message. <br>"
   ]
  },
  {
   "cell_type": "code",
   "execution_count": null,
   "metadata": {},
   "outputs": [],
   "source": [
    "question_starter = \"tell me pymon, \""
   ]
  },
  {
   "cell_type": "code",
   "execution_count": null,
   "metadata": {},
   "outputs": [],
   "source": [
    "@client.event\n",
    "async def on_ready():\n",
    "    print(f'We have logged in as {client.user}')\n",
    "\n",
    "@client.event\n",
    "async def on_message(message):\n",
    "    # ignore messages from the bot itself\n",
    "    if message.author == client.user:\n",
    "        return\n",
    "\n",
    "    # triggers the LLM QnA response\n",
    "    if message.content.lower().startswith(question_starter):\n",
    "        # get the rest of the message\n",
    "        print(f\"the message is{message.content}\")\n",
    "        query = message.content.replace(question_starter, '')\n",
    "        # get the LLM response\n",
    "        await message.channel.send(f'your question was: {query}')\n",
    "    \n",
    "    # automatically replies with LLM if bot is being replied to or tagged\n",
    "    if client.user.mentioned_in(message):\n",
    "        bot_reply = message.content.replace(client.user.mention, '')\n",
    "        await message.channel.send(f'{bot_reply}')\n",
    "\n",
    "    "
   ]
  },
  {
   "cell_type": "markdown",
   "metadata": {},
   "source": [
    "# Main"
   ]
  },
  {
   "cell_type": "code",
   "execution_count": null,
   "metadata": {},
   "outputs": [],
   "source": [
    "import nest_asyncio\n",
    "nest_asyncio.apply()\n",
    "\n",
    "client.run(DISCORD_TOKEN)"
   ]
  }
 ],
 "metadata": {
  "kernelspec": {
   "display_name": "Python 3",
   "language": "python",
   "name": "python3"
  },
  "language_info": {
   "codemirror_mode": {
    "name": "ipython",
    "version": 3
   },
   "file_extension": ".py",
   "mimetype": "text/x-python",
   "name": "python",
   "nbconvert_exporter": "python",
   "pygments_lexer": "ipython3",
   "version": "3.11.1"
  },
  "orig_nbformat": 4
 },
 "nbformat": 4,
 "nbformat_minor": 2
}
